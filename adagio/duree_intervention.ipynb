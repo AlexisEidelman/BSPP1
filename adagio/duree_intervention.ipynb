{
 "cells": [
  {
   "cell_type": "code",
   "execution_count": 1,
   "metadata": {
    "collapsed": true
   },
   "outputs": [],
   "source": [
    "# -*- coding: utf-8 -*-\n",
    "\"\"\"\n",
    "@author: aeidemlan\n",
    "\"\"\"\n",
    "import datetime\n",
    "import pandas as pd\n",
    "\n",
    "from read import read_bspp_table, read_configuration\n",
    "from tools import translate_id_into_label"
   ]
  },
  {
   "cell_type": "code",
   "execution_count": 4,
   "metadata": {
    "collapsed": true
   },
   "outputs": [],
   "source": [
    "nrows = 1000000000000000"
   ]
  },
  {
   "cell_type": "code",
   "execution_count": 5,
   "metadata": {
    "collapsed": false
   },
   "outputs": [
    {
     "name": "stdout",
     "output_type": "stream",
     "text": [
      "2015    4452425\n",
      "2014    4238433\n",
      "2013    4081145\n",
      "2012    3974965\n",
      "2011    3675311\n",
      "2016    2701680\n",
      "2010      77559\n",
      "Name: date, dtype: int64\n"
     ]
    },
    {
     "name": "stderr",
     "output_type": "stream",
     "text": [
      "C:\\git\\BSPP1\\adagio\\read.py:43: ParserWarning: Falling back to the 'python' engine because the 'c' engine does not support regex separators; you can avoid this warning by specifying engine='python'.\n",
      "  usecols=usecols,\n"
     ]
    }
   ],
   "source": [
    "tab = read_bspp_table(\"GestionMMA_HistoriqueMMAStatutOperationnel\",\n",
    "                      skiprows=0, nrows = nrows,\n",
    "                      usecols=[1,2,4,5])\n",
    "# 'IdMMASelection' joue le r�le de num�ro d'intervention par\n",
    "# v�hicule\n",
    "\n",
    "tab['date'] = pd.to_datetime(tab['DateStatutOperationnelMMA'],\n",
    "                      format='%Y-%m-%d %H:%M:%S')\n",
    "del tab['DateStatutOperationnelMMA']\n",
    "tab['date'].value_counts() #beaucoup de date � la millisecondes prises\n",
    "# plusieurs fois.\n",
    "# C'est moins le cas quand on fait tab[test > '2013']\n",
    "# tab[test > '2013'].DateStatutOperationnelMMA.value_counts()\n",
    "#=> on peut imaginer qu'il y a eu une correction avant 2013\n",
    "print(tab.date.dt.year.value_counts())\n",
    "#2015    4452425\n",
    "#2014    4238433\n",
    "#2013    4081145\n",
    "#2012    3974965\n",
    "#2011    3675311\n",
    "#2016    2701680\n",
    "#2010      77559\n",
    "\n",
    "\n",
    "def voir_intervention(num_intervention, from_table=tab):\n",
    "    ''' pour facilement voir une intervention '''\n",
    "    tab = from_table[from_table['IdMMASelection'] == num_intervention]\n",
    "    return tab.sort_values('date')"
   ]
  },
  {
   "cell_type": "code",
   "execution_count": 6,
   "metadata": {
    "collapsed": false
   },
   "outputs": [
    {
     "name": "stdout",
     "output_type": "stream",
     "text": [
      "        IdMMA IdStatutOperationnel IdMMASelection                    date\n",
      "5001170   449                  102         884767 2012-04-25 11:33:36.547\n",
      "5001182   449                    1         884767 2012-04-25 11:34:37.297\n",
      "5001188   449                    7         884767 2012-04-25 11:35:08.533\n",
      "5001190   449                  102         884767 2012-04-25 11:35:10.203\n",
      "5001193   449                    1         884767 2012-04-25 11:35:14.390\n",
      "5001194   449                    2         884767 2012-04-25 11:35:18.280\n",
      "5001195   449                    7         884767 2012-04-25 11:35:20.413\n",
      "5001196   449                    9         884767 2012-04-25 11:35:24.857\n"
     ]
    },
    {
     "name": "stderr",
     "output_type": "stream",
     "text": [
      "C:\\git\\BSPP1\\adagio\\read.py:43: ParserWarning: Falling back to the 'python' engine because the 'c' engine does not support regex separators; you can avoid this warning by specifying engine='python'.\n",
      "  usecols=usecols,\n"
     ]
    },
    {
     "data": {
      "text/plain": [
       "statut\n",
       "AR sur les lieux                                                     3295148\n",
       "Accueil                                                              3295185\n",
       "Acquittement Message Information                                     3295168\n",
       "Annulation sélection                                                 3295186\n",
       "Arrivée hôpital                                                      2906963\n",
       "CRS sur les lieux                                                    3295186\n",
       "DDE sur les lieux                                                    3295184\n",
       "DSM sur les lieux                                                    3295181\n",
       "Demande SMUR                                                         3295174\n",
       "Demande confirmation d'appel et d'adresse                            3288151\n",
       "Demande police ou gendarmerie                                        3294950\n",
       "Disponible                                                            411741\n",
       "EDF sur les lieux                                                    3295183\n",
       "Elu sur les lieux                                                    3295187\n",
       "Feu circonscrit                                                      3295183\n",
       "Feu de poubelle VP                                                   3295178\n",
       "Feu de véhicule VP                                                   3295179\n",
       "Feu éteint                                                           3295183\n",
       "GDF sur les lieux                                                    3295179\n",
       "Gendarmerie sur les lieux                                            3295185\n",
       "Indisponible                                                         3291242\n",
       "Indisponible CAO                                                     3294901\n",
       "Indisponible EPO                                                     3294814\n",
       "Indisponible Instruction - Sport                                     3291556\n",
       "Indisponible Montée en GARDE                                         3286623\n",
       "Indisponible Remise en Condition Matériel/Personnel - Désarmement    3274257\n",
       "Indisponible accidenté                                               3294485\n",
       "Indisponible autre départ (préavis)                                  3294796\n",
       "Indisponible délestage                                               3294169\n",
       "Indisponible délestage intervention en cours                         3295187\n",
       "                                                                      ...   \n",
       "Indisponible raison mécanique hors LSO                               3289824\n",
       "Instance de sélection                                                3294698\n",
       "Instance départ                                                       298046\n",
       "Je prends le COS                                                     3295083\n",
       "Maître du feu                                                        3295183\n",
       "Message                                                              3293246\n",
       "Message urgent                                                       3291704\n",
       "Parti                                                                 457831\n",
       "Police sur les lieux                                                 3294218\n",
       "Poursuivons reconnaissances                                          3295185\n",
       "Procureur sur les lieux                                              3295184\n",
       "Présentation ZDI                                                     3295184\n",
       "Présentation commission communale de sécurité                        3295184\n",
       "Présentation spontanée                                               3295125\n",
       "Présentation spontanée ADAGIO                                        3282330\n",
       "Présentation établissement sportif                                   3295183\n",
       "Quitte hôpital                                                       3054971\n",
       "Quitte les lieux du sinistre                                         3294961\n",
       "Reconnaissances en cours                                             3295178\n",
       "Rentré                                                                568660\n",
       "SMUR sur les lieux                                                   3294634\n",
       "Services de la ville sur les lieux                                   3295187\n",
       "Sur les lieux                                                         617594\n",
       "Sélection                                                            2895263\n",
       "Transport 1 victime sur hôpital par hélicoptère                      3293510\n",
       "Transport hôpital                                                    2845009\n",
       "Victime décédée                                                      3295145\n",
       "Victime laissée sur place                                            3294576\n",
       "Victime refusant son transport                                       3295034\n",
       "Voirie sur les lieux                                                 3295187\n",
       "dtype: int64"
      ]
     },
     "execution_count": 6,
     "metadata": {},
     "output_type": "execute_result"
    }
   ],
   "source": [
    "statut_op = read_configuration('StatutOperationnel')\n",
    "tab = translate_id_into_label('StatutOperationnel',\n",
    "                              tab, statut_op, method='merge')\n",
    "#\n",
    "# sit on veut d'autres infos de StatutOperationnel\n",
    "#tab = tab.merge(statut_op[['IdStatutOperationnel', 'LibelleStatutOperationnel', 'Disponibilite']])\n",
    "#del tab['IdStatutOperationnel']\n",
    "tab.rename(columns={\n",
    "    'StatutOperationnel':'statut',\n",
    "    }, inplace=True)\n",
    "#tab['Disponibilite'].astype(bool)\n",
    "\n",
    "print(voir_intervention('884767'))\n",
    "\n",
    "var_utiles =  ['IdMMA','statut','date', 'IdMMASelection']\n",
    "utiles = tab[tab['IdMMASelection'] > '0']\n",
    "# TODO: comprendre ce que c'est quand pas d'intervention\n",
    "\n",
    "# on a des doublons\n",
    "len(utiles) == len(utiles.drop_duplicates(['IdMMA', 'IdMMASelection', 'statut']))\n",
    "# => on fait les bourrins : on retire les interventions concern�es\n",
    "# TODO: faire mieux\n",
    "avec_doublons = utiles[utiles.duplicated(['IdMMA', 'IdMMASelection', 'statut'])]['IdMMASelection']\n",
    "utiles = utiles[~utiles['IdMMASelection'].isin(avec_doublons.unique())]\n",
    "\n",
    "bon_format = utiles[var_utiles].set_index(['IdMMA', 'IdMMASelection', 'statut']).unstack()\n",
    "bon_format.columns = bon_format.columns.levels[1]\n",
    "bon_format.isnull().sum()"
   ]
  },
  {
   "cell_type": "code",
   "execution_count": 11,
   "metadata": {
    "collapsed": false
   },
   "outputs": [
    {
     "name": "stdout",
     "output_type": "stream",
     "text": [
      "267841\n",
      "15715628\n",
      "on a en tout  3295188  inteventions\n"
     ]
    }
   ],
   "source": [
    "print(len(avec_doublons.unique()))\n",
    "print(len(utiles))\n",
    "print('on a en tout ', len(bon_format), ' inteventions')\n",
    "# 3 295 188"
   ]
  },
  {
   "cell_type": "code",
   "execution_count": 12,
   "metadata": {
    "collapsed": false
   },
   "outputs": [
    {
     "name": "stderr",
     "output_type": "stream",
     "text": [
      "C:\\git\\BSPP1\\adagio\\read.py:43: ParserWarning: Falling back to the 'python' engine because the 'c' engine does not support regex separators; you can avoid this warning by specifying engine='python'.\n",
      "  usecols=usecols,\n"
     ]
    }
   ],
   "source": [
    "## pr�pare un mod�le de regression\n",
    "statut_d_une_intervention_classique = [\n",
    "    'Instance de sélection',\n",
    "    'Sélection',\n",
    "    'Instance départ',\n",
    "    'Parti',\n",
    "    'Sur les lieux ',\n",
    "    'Transport hôpital',\n",
    "    'Arrivée hôpital',\n",
    "    'Quitte hôpital',\n",
    "    'Indisponible Montée en GARDE',\n",
    "    'Indisponible en Transit',\n",
    "    # disponible\n",
    "    'Rentré',\n",
    "    'Disponible',\n",
    "    ]\n",
    "# tous les autres c'est indisponible\n",
    "\n",
    "\n",
    "### on cr�e maintenant les variables utiles pour la r�gression.\n",
    "# on selectionnce uniquement quand on a rempli la liste suivante\n",
    "var_hopital = ['Transport hôpital','Arrivée hôpital','Quitte hôpital']\n",
    "bon_format['hopital'] = bon_format[var_hopital].notnull().sum(1) > 0\n",
    "\n",
    "\n",
    "statut_obligatoire = [\n",
    "    'Instance départ',\n",
    "    'Parti',\n",
    "    'Sur les lieux',\n",
    "    # disponible\n",
    "    'Rentré',\n",
    "    'Disponible',\n",
    "    ]\n",
    "cond_tout_rempli = bon_format[statut_obligatoire].isnull().sum(1) == 0\n",
    "tout_rempli = bon_format.loc[cond_tout_rempli, statut_obligatoire + ['hopital']]\n",
    "# => on retire un tiers des intervention\n",
    "\n",
    "tout_rempli.reset_index(inplace=True)\n",
    "\n",
    "#####  les infos sur le MMA ######\n",
    "mma = read_configuration('MMA')\n",
    "# on utilise pas l'originel\n",
    "del mma['IdFamilleMMAOriginelle']\n",
    "# TODO: retirer d'autres variables\n",
    "#TODO savoir ce qu'est un Omnibus\n",
    "to_remove = ['ImmatriculationBSPPMMA', 'ImmatriculationAdministrativeMMA',\n",
    "             'RFGI', 'GSM', 'Actif', 'Strada', 'Omnibus',\n",
    "             'Associe', 'OrdreGTA', 'Disponible', 'Observation',\n",
    "             'IdStatutOperationnel']\n",
    "mma.drop(to_remove, axis=1, inplace=True)\n",
    "\n",
    "# famille mma\n",
    "famille_mma = read_configuration('FamilleMMA')\n",
    "del famille_mma['FamilleMMA'] # qui est vide\n",
    "mma.rename(columns={'IdFamilleMMAOperationnelle': 'IdFamilleMMA'}, inplace=True)\n",
    "mma = translate_id_into_label('FamilleMMA',\n",
    "                              mma, famille_mma, method='merge')\n",
    "\n",
    "\n",
    "var_nombre = [var for var in famille_mma.columns if 'Nombre' in var]\n",
    "famille_mma = famille_mma[['LibelleFamilleMMA'] + var_nombre]\n",
    "mma = mma.merge(famille_mma, left_on='FamilleMMA', right_on='LibelleFamilleMMA')\n",
    "del mma['LibelleFamilleMMA']\n",
    "\n",
    "# Apparentance\n",
    "appartenance = read_configuration('MoyenSecoursAppartenance')\n",
    "mma = translate_id_into_label('MoyenSecoursAppartenance',\n",
    "                              mma, appartenance, method='merge')\n",
    "\n",
    "#IdFamilleMMAModele\n",
    "assert all(mma.IdFamilleMMAModele == '1')\n",
    "# donc variable ininteressante\n",
    "# donc MMAModele = read_configuration('FamilleMMAModele') ne sert � rien\n",
    "# donc:\n",
    "del mma['IdFamilleMMAModele']\n",
    "# TODO: regarder les autres variables ident\n",
    "# IdLieuStationnementOperationnel\n",
    "# et\n",
    "# IdAffectationAdministrative\n",
    "tout_rempli = tout_rempli.merge(mma, on='IdMMA')\n",
    "\n",
    "\n",
    "\n",
    "#####  les infos sur les interventions ######\n",
    "# tables concern�e\n",
    "#        \"Appel112_MMASelection\",\n",
    "#        \"Appel112_MMARessourcePartageeSelection\",\n",
    "#        \"GestionMMA_FamilleMMASelection\"\n",
    "selection = read_bspp_table(\"Appel112_MMASelection\", nrows=nrows)\n",
    "\n",
    "\n",
    "type_selection = read_bspp_table(\"Appel112_R_TypeSelection\", nrows=nrows)\n",
    "#   IdTypeSelection AbregeTypeSelection          LibeleTypeSelection\n",
    "#0                0                   A                       Annul�\n",
    "#1                1                   D                   D�finitive\n",
    "#etc...\n",
    "selection = selection.merge(type_selection)\n",
    "del selection['IdTypeSelection']\n",
    "\n",
    "resume = read_bspp_table(\"Appel112_InterventionResume\",\n",
    "                         usecols=[0,1,2,3,4, 9], nrows=nrows)\n",
    "selection = selection.merge(resume, on = 'IdIntervention')\n",
    "# TODO: on a d'autre chose à faire, il faut faire le merge avec\n",
    "# IdMMA par exemple. En attendant\n",
    "del selection['IdMMA']\n",
    "#del selection['IdIntervention']\n",
    "\n",
    "\n",
    "tout_rempli = tout_rempli.merge(selection, on = 'IdMMASelection',\n",
    "                                how='left')\n",
    "\n",
    "tout_rempli.rename(columns={\n",
    "    'Disponible_x':'Disponible',\n",
    "    }, inplace=True)\n",
    "\n",
    "var_label = ['ObservationsPourMMA', 'LibelleMotif', 'LibeleTypeSelection', 'ImmatriculationBSPPMMA',\n",
    "'LibelleMoyenSecoursAppartenance', 'LibelleFamilleMMA']\n",
    "\n",
    "\n",
    "\n",
    "\n"
   ]
  },
  {
   "cell_type": "code",
   "execution_count": 13,
   "metadata": {
    "collapsed": false
   },
   "outputs": [
    {
     "name": "stdout",
     "output_type": "stream",
     "text": [
      "2151572\n",
      "0.3470563743252282\n"
     ]
    }
   ],
   "source": [
    "print(len(tout_rempli))\n",
    "print(1 - len(tout_rempli)/len(bon_format))"
   ]
  },
  {
   "cell_type": "code",
   "execution_count": 21,
   "metadata": {
    "collapsed": false
   },
   "outputs": [],
   "source": [
    "tout_rempli['Affectation_du_vehicule'] = tout_rempli.Libelle_GTA.str.split(\"_\").str[2]"
   ]
  },
  {
   "cell_type": "code",
   "execution_count": 22,
   "metadata": {
    "collapsed": false
   },
   "outputs": [
    {
     "data": {
      "text/plain": [
       "0.44488820267227869"
      ]
     },
     "execution_count": 22,
     "metadata": {},
     "output_type": "execute_result"
    }
   ],
   "source": [
    "sum(tout_rempli['Cstc'] == tout_rempli['Affectation_du_vehicule']) / len(tout_rempli['Cstc'])"
   ]
  },
  {
   "cell_type": "code",
   "execution_count": 18,
   "metadata": {
    "collapsed": false
   },
   "outputs": [
    {
     "data": {
      "text/plain": [
       "0.44488820267227869"
      ]
     },
     "execution_count": 18,
     "metadata": {},
     "output_type": "execute_result"
    }
   ],
   "source": [
    "sum(tout_rempli['Cstc'] == tout_rempli['Affectation_du_vehicule']) / len(tout_rempli['Cstc'])"
   ]
  },
  {
   "cell_type": "code",
   "execution_count": 30,
   "metadata": {
    "collapsed": false
   },
   "outputs": [],
   "source": [
    "tout_rempli.to_csv('tout_rempli.csv', index=False)"
   ]
  },
  {
   "cell_type": "code",
   "execution_count": 28,
   "metadata": {
    "collapsed": false
   },
   "outputs": [
    {
     "data": {
      "text/plain": [
       "602440432"
      ]
     },
     "execution_count": 28,
     "metadata": {},
     "output_type": "execute_result"
    }
   ],
   "source": [
    "df = tout_rempli\n",
    "df.values.nbytes + df.index.nbytes + df.columns.nbytes"
   ]
  },
  {
   "cell_type": "code",
   "execution_count": 29,
   "metadata": {
    "collapsed": false
   },
   "outputs": [
    {
     "data": {
      "text/plain": [
       "602.440432"
      ]
     },
     "execution_count": 29,
     "metadata": {},
     "output_type": "execute_result"
    }
   ],
   "source": [
    "602440432/1e6"
   ]
  },
  {
   "cell_type": "code",
   "execution_count": 17,
   "metadata": {
    "collapsed": false
   },
   "outputs": [
    {
     "name": "stdout",
     "output_type": "stream",
     "text": [
      "['MTMA' 'BLAN' 'ROUS' 'STHO' 'CHPT' 'BSLT' 'CHTO' 'MALA' 'LAND' 'STOU'\n",
      " 'CCL1' 'PIER' 'STDE' 'LACO' 'DAUP' 'PLAI' 'CHAR' 'MENI' 'COBI' 'POIS'\n",
      " 'PROY' 'GREN' 'VINC' 'MTRL' 'NATI' 'BOND' 'VIMB' 'DRAN' 'PANT' 'NOGT'\n",
      " 'CHLY' 'PARM' 'MALF' 'MASS' 'RUNG' 'CHOI' 'CHPY' 'STMR' 'BOUL' 'ISSY'\n",
      " 'MTGE' 'BGLR' 'CLAM' 'GENN' 'LEVA' 'AUTE' 'SEVR' 'AULN' 'ASNI' 'PLCL'\n",
      " 'COBE' 'ANTO' 'BLME' 'CBVE' 'AUBE' 'BITC' 'CLIC' 'PCDG' 'CCL2' 'SUCY'\n",
      " 'NOIS' 'CRET' 'NEUI' 'VILC' 'VISG' 'VIJF' 'UESR' 'MEUD' 'SEVI' 'NANT'\n",
      " 'NBCG' 'STCL' 'LIVR' 'PUTX' 'IVRY' 'TREM' 'VITR' 'RUEI' 'CCL3' nan 'STEC'\n",
      " None 'CDS1' 'POUC' 'ORLY' 'CASG' 'CFC' 'HEGP' 'CSM' 'CCHY' '16' 'NBCL'\n",
      " 'CASS' 'CIR' 'JOIN' 'NBCR' 'CASJ' 'LGS' 'MONN' 'visg' 'CASC' 'NBCV' 'SDIS'\n",
      " 'NBCP' 'CDS2' '27' '26' '13' 'GPOR' 'CMAI' '23' 'CSC' 'SIFR']\n"
     ]
    },
    {
     "data": {
      "text/plain": [
       "113"
      ]
     },
     "execution_count": 17,
     "metadata": {},
     "output_type": "execute_result"
    }
   ],
   "source": [
    "print(tout_rempli.Cstc.unique())\n",
    "len(tout_rempli.Cstc.unique())"
   ]
  },
  {
   "cell_type": "code",
   "execution_count": null,
   "metadata": {
    "collapsed": false
   },
   "outputs": [],
   "source": [
    "print(tout_rempli.Affectation_du_vehicule.unique())\n",
    "len(tout_rempli.Affectation_du_vehicule.unique())"
   ]
  },
  {
   "cell_type": "code",
   "execution_count": null,
   "metadata": {
    "collapsed": false
   },
   "outputs": [],
   "source": [
    "print(list(set(tout_rempli.Cstc.unique()).intersection(tout_rempli.Affectation_du_vehicule.unique())))\n",
    "len(set(tout_rempli.Cstc.unique()).intersection(tout_rempli.Affectation_du_vehicule.unique()))"
   ]
  },
  {
   "cell_type": "code",
   "execution_count": null,
   "metadata": {
    "collapsed": false
   },
   "outputs": [],
   "source": [
    "tout_rempli[['Cstc', 'Affectation_du_vehicule']]"
   ]
  },
  {
   "cell_type": "code",
   "execution_count": null,
   "metadata": {
    "collapsed": false
   },
   "outputs": [],
   "source": []
  },
  {
   "cell_type": "code",
   "execution_count": null,
   "metadata": {
    "collapsed": true
   },
   "outputs": [],
   "source": []
  }
 ],
 "metadata": {
  "kernelspec": {
   "display_name": "Python 3",
   "language": "python",
   "name": "python3"
  },
  "language_info": {
   "codemirror_mode": {
    "name": "ipython",
    "version": 3
   },
   "file_extension": ".py",
   "mimetype": "text/x-python",
   "name": "python",
   "nbconvert_exporter": "python",
   "pygments_lexer": "ipython3",
   "version": "3.4.3"
  }
 },
 "nbformat": 4,
 "nbformat_minor": 0
}
